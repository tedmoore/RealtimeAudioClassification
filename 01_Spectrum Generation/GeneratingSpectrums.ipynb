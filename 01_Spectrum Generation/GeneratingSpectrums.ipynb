{
 "cells": [
  {
   "cell_type": "markdown",
   "metadata": {},
   "source": [
    "The following cell loads in all the libraries that we previously installed; this makes it so that we can access the functions in these libraries instead of having to code these capabilities from scratch."
   ]
  },
  {
   "cell_type": "code",
   "execution_count": 72,
   "metadata": {},
   "outputs": [],
   "source": [
    "import csv\n",
    "import cv2\n",
    "import numpy as np\n",
    "import librosa\n",
    "import librosa.display\n",
    "import wave\n",
    "import os\n",
    "import matplotlib.pyplot as plt\n",
    "import multiprocessing \n",
    "import pickle"
   ]
  },
  {
   "cell_type": "markdown",
   "metadata": {},
   "source": [
    "The next cell defines the folder paths to both the source folder where the audio is stored and the folder where the generated images should go."
   ]
  },
  {
   "cell_type": "code",
   "execution_count": 73,
   "metadata": {},
   "outputs": [],
   "source": [
    "#SOURCE_FOLDER_TRAIN= '../AudioData/Cats-Vs-Dogs/'\n",
    "#OUTPUT_FOLDER_TRAIN = '../GeneratedData/Cats-Vs-Dogs/'\n",
    "\n",
    "#SOURCE_FOLDER_TRAIN= '../AudioData/bsn-vs-vln/'\n",
    "#OUTPUT_FOLDER_TRAIN = '../GeneratedData/bsn-vs-vln/'\n",
    "\n",
    "#SOURCE_FOLDER_TRAIN= '../AudioData/elec-vs-acous/'\n",
    "#OUTPUT_FOLDER_TRAIN = '../GeneratedData/elec-vs-acous/'\n",
    "\n",
    "SOURCE_FOLDER_TRAIN= '../AudioData/euro-vs-perc/'\n",
    "OUTPUT_FOLDER_TRAIN = '../GeneratedData/euro-vs-perc/'"
   ]
  },
  {
   "cell_type": "markdown",
   "metadata": {},
   "source": [
    "The following cell defines the filename where the Spectrum Variables should be read from. This will load in a file that tells this script how to compute the spectrogram."
   ]
  },
  {
   "cell_type": "code",
   "execution_count": 74,
   "metadata": {},
   "outputs": [
    {
     "name": "stdout",
     "output_type": "stream",
     "text": [
      "Please type filename without the file ending here => test30\n"
     ]
    },
    {
     "data": {
      "text/plain": [
       "{'RESOLUTION': 224,\n",
       " 'SAMPLE_RATE': 32000,\n",
       " 'N_FFT': 2112,\n",
       " 'HOP_LENGTH': 320,\n",
       " 'FMIN': 150,\n",
       " 'FMAX': 20150,\n",
       " 'N_MELS': 30,\n",
       " 'POWER': 1.55}"
      ]
     },
     "execution_count": 74,
     "metadata": {},
     "output_type": "execute_result"
    }
   ],
   "source": [
    "#Loading in the Spectrogram variables\n",
    "FileName =input(\"Please type filename without the file ending here => \")\n",
    "SpectrumVariables = pickle.load(open( FileName+'.SpecVar', \"rb\" ) )\n",
    "SpectrumVariables"
   ]
  },
  {
   "cell_type": "markdown",
   "metadata": {},
   "source": [
    "This defines the function that creates logarithmic spectragrams of the audio file designated in the `src_path` into the folder in the `dst_path`."
   ]
  },
  {
   "cell_type": "code",
   "execution_count": 75,
   "metadata": {},
   "outputs": [],
   "source": [
    "def log_mel_spec_tfm(src_path, dst_path):\n",
    "    #print(src_path)\n",
    "    fname=src_path.split('/')[-1];\n",
    "    x=[]\n",
    "    sample_rate=0\n",
    "    try:\n",
    "        channels ,sample_rate_in = librosa.load(src_path,mono=False)\n",
    "    except:\n",
    "        print(fname+\" Could not be computed!\")\n",
    "        return\n",
    "    if(channels.ndim==1):\n",
    "        channels= channels.reshape((1,(len(channels))))\n",
    "    channelcounter=0\n",
    "    for audio_data in channels:\n",
    "        channelcounter+=1\n",
    "        \n",
    "        RESOLUTION=SpectrumVariables[\"RESOLUTION\"] \n",
    "        \n",
    "        N_FFT=SpectrumVariables[\"N_FFT\"]\n",
    "        HOP_LENGTH= SpectrumVariables[\"HOP_LENGTH\"]\n",
    "        FMIN=SpectrumVariables[\"FMIN\"]\n",
    "        FMAX=SpectrumVariables[\"FMAX\"]\n",
    "        N_MELS=SpectrumVariables[\"N_MELS\"]\n",
    "        POWER=SpectrumVariables[\"POWER\"]\n",
    "        #audio_data = librosa.resample(x, sample_rate_in, SAMPLE_RATE)\n",
    "        mel_spec_power = librosa.feature.melspectrogram(audio_data, sr=sample_rate_in, n_fft=N_FFT, \n",
    "                                                        hop_length=HOP_LENGTH, \n",
    "                                                        n_mels=N_MELS, power=POWER,\n",
    "                                                       fmin=FMIN,fmax=FMAX)\n",
    "        mel_spec_db = librosa.power_to_db(mel_spec_power, ref=np.max)\n",
    "        image = mel_spec_db; # convert to float\n",
    "        image -= image.min() # ensure the minimal value is 0.0\n",
    "        image /= image.max() # maximum value in image is now 1.0\n",
    "        image*=256;\n",
    "        img = image.astype(np.uint8)\n",
    "        colorPic = cv2.applyColorMap(img, cv2.COLORMAP_BONE)\n",
    "        #cv2.imshow('dst_rt', colorPic)\n",
    "        #cv2.waitKey(0)\n",
    "        count=0\n",
    "        for i in range(int(np.floor(colorPic.shape[1]/RESOLUTION))):\n",
    "            count+=1\n",
    "            startx=RESOLUTION*i\n",
    "            stopx=RESOLUTION*(i+1)\n",
    "            OutputImage = cv2.resize(colorPic[:,startx:stopx,:],(RESOLUTION,RESOLUTION))\n",
    "            plt.imsave(os.path.join(dst_path,(fname.replace(\".wav\",'-').replace(\".m4a\",'-').replace(\".mp3\",'-') +str(i)+'-ch-'+str(channelcounter)+ '.png')), OutputImage) \n",
    "        if(count==0):\n",
    "            print(src_path)\n",
    "            #print(\"WARNING: => Jumped A file. If you see this often, increas sampleRate or Hop length.\")"
   ]
  },
  {
   "cell_type": "markdown",
   "metadata": {},
   "source": [
    "The following folder is a wrapper function for the previous function, going through all the audio files in `IN_FOLDER`."
   ]
  },
  {
   "cell_type": "code",
   "execution_count": 76,
   "metadata": {},
   "outputs": [],
   "source": [
    "def ComputeSpectrograms(IN_FOLDER,OUT_FOLDER):\n",
    "    print(\"I will print the file path to files that are too short to fit into one full picture.\")\n",
    "    SourceFoldersLabels = [f.path for f in os.scandir(IN_FOLDER) if f.is_dir()]\n",
    "    for path in SourceFoldersLabels:\n",
    "        FileList = [f.path for f in os.scandir(path) if f.is_file() and (f.name.endswith(\".wav\") or f.name.endswith(\".m4a\") or f.name.endswith(\".mp3\"))]\n",
    "        Label = path.split('/')[-1]\n",
    "        outFolder = os.path.join(OUT_FOLDER,Label)\n",
    "        if not os.path.exists(outFolder):\n",
    "            os.makedirs(outFolder)\n",
    "        with multiprocessing.Pool(12) as p:\n",
    "            p.starmap(log_mel_spec_tfm, [(f,outFolder) for f in FileList])\n",
    "        print(\"Finished this class. Going to the next\")\n",
    "    print(\"Done generating spectra!\")  "
   ]
  },
  {
   "cell_type": "markdown",
   "metadata": {},
   "source": [
    "This moves the Spectrum Variables file into the output folder so that we can correspond the images with labels."
   ]
  },
  {
   "cell_type": "code",
   "execution_count": 77,
   "metadata": {},
   "outputs": [
    {
     "name": "stdout",
     "output_type": "stream",
     "text": [
      "I will print the file path to files that are too short to fit into one full picture.\n"
     ]
    },
    {
     "name": "stderr",
     "output_type": "stream",
     "text": [
      "/anaconda3/lib/python3.6/site-packages/librosa/filters.py:284: UserWarning: Empty filters detected in mel frequency basis. Some channels will produce empty responses. Try increasing your sampling rate (and fmax) or reducing n_mels.\n",
      "  warnings.warn('Empty filters detected in mel frequency basis. '\n",
      "/anaconda3/lib/python3.6/site-packages/librosa/filters.py:284: UserWarning: Empty filters detected in mel frequency basis. Some channels will produce empty responses. Try increasing your sampling rate (and fmax) or reducing n_mels.\n",
      "  warnings.warn('Empty filters detected in mel frequency basis. '\n"
     ]
    },
    {
     "name": "stdout",
     "output_type": "stream",
     "text": [
      "../AudioData/euro-vs-perc/perc/sheet metal dragging chopstick across ripples 01.wav\n",
      "../AudioData/euro-vs-perc/perc/sheet metal dragging chopstick across ripples 01.wav\n",
      "../AudioData/euro-vs-perc/perc/small pan brass mallet on lip.wav\n"
     ]
    },
    {
     "name": "stderr",
     "output_type": "stream",
     "text": [
      "/anaconda3/lib/python3.6/site-packages/librosa/filters.py:284: UserWarning: Empty filters detected in mel frequency basis. Some channels will produce empty responses. Try increasing your sampling rate (and fmax) or reducing n_mels.\n",
      "  warnings.warn('Empty filters detected in mel frequency basis. '\n"
     ]
    },
    {
     "name": "stdout",
     "output_type": "stream",
     "text": [
      "../AudioData/euro-vs-perc/perc/small pan brass mallet on lip.wav\n",
      "../AudioData/euro-vs-perc/perc/wind gong chopstick ictus.wav\n",
      "../AudioData/euro-vs-perc/perc/wind gong chopstick ictus.wav\n"
     ]
    },
    {
     "name": "stderr",
     "output_type": "stream",
     "text": [
      "/anaconda3/lib/python3.6/site-packages/librosa/filters.py:284: UserWarning: Empty filters detected in mel frequency basis. Some channels will produce empty responses. Try increasing your sampling rate (and fmax) or reducing n_mels.\n",
      "  warnings.warn('Empty filters detected in mel frequency basis. '\n",
      "/anaconda3/lib/python3.6/site-packages/librosa/filters.py:284: UserWarning: Empty filters detected in mel frequency basis. Some channels will produce empty responses. Try increasing your sampling rate (and fmax) or reducing n_mels.\n",
      "  warnings.warn('Empty filters detected in mel frequency basis. '\n"
     ]
    },
    {
     "name": "stdout",
     "output_type": "stream",
     "text": [
      "../AudioData/euro-vs-perc/perc/sheet metal chopstick rosin 01.wav\n",
      "../AudioData/euro-vs-perc/perc/sheet metal chopstick rosin 01.wav\n"
     ]
    },
    {
     "name": "stderr",
     "output_type": "stream",
     "text": [
      "/anaconda3/lib/python3.6/site-packages/librosa/filters.py:284: UserWarning: Empty filters detected in mel frequency basis. Some channels will produce empty responses. Try increasing your sampling rate (and fmax) or reducing n_mels.\n",
      "  warnings.warn('Empty filters detected in mel frequency basis. '\n",
      "/anaconda3/lib/python3.6/site-packages/librosa/filters.py:284: UserWarning: Empty filters detected in mel frequency basis. Some channels will produce empty responses. Try increasing your sampling rate (and fmax) or reducing n_mels.\n",
      "  warnings.warn('Empty filters detected in mel frequency basis. '\n"
     ]
    },
    {
     "name": "stdout",
     "output_type": "stream",
     "text": [
      "../AudioData/euro-vs-perc/perc/small pan edge on inside ictus back of brush.wav\n"
     ]
    },
    {
     "name": "stderr",
     "output_type": "stream",
     "text": [
      "/anaconda3/lib/python3.6/site-packages/librosa/filters.py:284: UserWarning: Empty filters detected in mel frequency basis. Some channels will produce empty responses. Try increasing your sampling rate (and fmax) or reducing n_mels.\n",
      "  warnings.warn('Empty filters detected in mel frequency basis. '\n"
     ]
    },
    {
     "name": "stdout",
     "output_type": "stream",
     "text": [
      "../AudioData/euro-vs-perc/perc/small pan edge on inside ictus back of brush.wav\n",
      "../AudioData/euro-vs-perc/perc/large pan drumstick buzz roll one stick inside.wav\n",
      "../AudioData/euro-vs-perc/perc/large pan drumstick buzz roll one stick inside.wav\n"
     ]
    },
    {
     "name": "stderr",
     "output_type": "stream",
     "text": [
      "/anaconda3/lib/python3.6/site-packages/librosa/filters.py:284: UserWarning: Empty filters detected in mel frequency basis. Some channels will produce empty responses. Try increasing your sampling rate (and fmax) or reducing n_mels.\n",
      "  warnings.warn('Empty filters detected in mel frequency basis. '\n",
      "/anaconda3/lib/python3.6/site-packages/librosa/filters.py:284: UserWarning: Empty filters detected in mel frequency basis. Some channels will produce empty responses. Try increasing your sampling rate (and fmax) or reducing n_mels.\n",
      "  warnings.warn('Empty filters detected in mel frequency basis. '\n",
      "/anaconda3/lib/python3.6/site-packages/librosa/filters.py:284: UserWarning: Empty filters detected in mel frequency basis. Some channels will produce empty responses. Try increasing your sampling rate (and fmax) or reducing n_mels.\n",
      "  warnings.warn('Empty filters detected in mel frequency basis. '\n",
      "/anaconda3/lib/python3.6/site-packages/librosa/filters.py:284: UserWarning: Empty filters detected in mel frequency basis. Some channels will produce empty responses. Try increasing your sampling rate (and fmax) or reducing n_mels.\n",
      "  warnings.warn('Empty filters detected in mel frequency basis. '\n"
     ]
    },
    {
     "name": "stdout",
     "output_type": "stream",
     "text": [
      "../AudioData/euro-vs-perc/perc/sheet metal chopstick rosin 03.wav\n",
      "../AudioData/euro-vs-perc/perc/sheet metal chopstick rosin 03.wav\n",
      "../AudioData/euro-vs-perc/perc/sheet metal moving 01.wav\n",
      "../AudioData/euro-vs-perc/perc/sheet metal moving 01.wav\n",
      "../AudioData/euro-vs-perc/perc/rattling cans.wav\n",
      "../AudioData/euro-vs-perc/perc/rattling cans.wav\n",
      "../AudioData/euro-vs-perc/perc/triangle throw up and catch 08.wav\n",
      "../AudioData/euro-vs-perc/perc/triangle throw up and catch 08.wav\n",
      "../AudioData/euro-vs-perc/perc/sticks dropping.wav\n",
      "../AudioData/euro-vs-perc/perc/sticks dropping.wav\n",
      "../AudioData/euro-vs-perc/perc/triangle mute fast 03.wav\n",
      "../AudioData/euro-vs-perc/perc/triangle mute fast 03.wav\n"
     ]
    },
    {
     "name": "stderr",
     "output_type": "stream",
     "text": [
      "/anaconda3/lib/python3.6/site-packages/librosa/filters.py:284: UserWarning: Empty filters detected in mel frequency basis. Some channels will produce empty responses. Try increasing your sampling rate (and fmax) or reducing n_mels.\n",
      "  warnings.warn('Empty filters detected in mel frequency basis. '\n"
     ]
    },
    {
     "name": "stdout",
     "output_type": "stream",
     "text": [
      "../AudioData/euro-vs-perc/perc/one ping.wav\n",
      "../AudioData/euro-vs-perc/perc/sheet metal bow 28.wav\n",
      "../AudioData/euro-vs-perc/perc/sheet metal bow 13.wav\n",
      "../AudioData/euro-vs-perc/perc/sheet metal bow 28.wav\n",
      "../AudioData/euro-vs-perc/perc/sheet metal bow 13.wav\n",
      "../AudioData/euro-vs-perc/perc/sheet metal bow 39.wav\n",
      "../AudioData/euro-vs-perc/perc/sheet metal bow 39.wav\n",
      "../AudioData/euro-vs-perc/perc/sheet metal bow 38.wav\n",
      "../AudioData/euro-vs-perc/perc/sheet metal bow 38.wav\n",
      "../AudioData/euro-vs-perc/perc/can jingle with ring 02.wav\n",
      "../AudioData/euro-vs-perc/perc/can jingle with ring 02.wav\n",
      "../AudioData/euro-vs-perc/perc/sheet metal bow 25.wav\n",
      "../AudioData/euro-vs-perc/perc/sheet metal bow 25.wav\n",
      "../AudioData/euro-vs-perc/perc/sheet metal bow 33.wav\n",
      "../AudioData/euro-vs-perc/perc/sheet metal bow 33.wav\n",
      "../AudioData/euro-vs-perc/perc/sheet metal chopstick rosin 04 pulling.wav\n",
      "../AudioData/euro-vs-perc/perc/sheet metal chopstick rosin 04 pulling.wav\n",
      "../AudioData/euro-vs-perc/perc/sheet metal bow 27.wav\n",
      "../AudioData/euro-vs-perc/perc/sheet metal bow 27.wav\n",
      "../AudioData/euro-vs-perc/perc/can jingle with ring 01.wav\n",
      "../AudioData/euro-vs-perc/perc/can jingle with ring 01.wav\n",
      "../AudioData/euro-vs-perc/perc/large pan drumstick ictus lip.wav_EDITED.wav\n",
      "../AudioData/euro-vs-perc/perc/large pan drumstick ictus lip.wav_EDITED.wav\n",
      "../AudioData/euro-vs-perc/perc/can jingle with ring 03.wav\n",
      "../AudioData/euro-vs-perc/perc/can jingle with ring 03.wav\n",
      "../AudioData/euro-vs-perc/perc/large pan drumstick ictus wall of inside.wav\n",
      "../AudioData/euro-vs-perc/perc/large pan drumstick ictus wall of inside.wav\n",
      "../AudioData/euro-vs-perc/perc/sheet metal bow 31.wav\n",
      "../AudioData/euro-vs-perc/perc/sheet metal bow 31.wav\n",
      "../AudioData/euro-vs-perc/perc/china cymbal scrape with back of brush 01.wav\n",
      "../AudioData/euro-vs-perc/perc/sheet metal bow 26.wav\n",
      "../AudioData/euro-vs-perc/perc/china cymbal scrape with back of brush 01.wav\n",
      "../AudioData/euro-vs-perc/perc/sheet metal bow 26.wav\n",
      "../AudioData/euro-vs-perc/perc/stick shuffling.wav\n",
      "../AudioData/euro-vs-perc/perc/stick shuffling.wav\n",
      "../AudioData/euro-vs-perc/perc/sheet metal bow 29.wav\n",
      "../AudioData/euro-vs-perc/perc/sheet metal bow 29.wav\n",
      "../AudioData/euro-vs-perc/perc/sheet metal bow 24.wav\n",
      "../AudioData/euro-vs-perc/perc/sheet metal bow 24.wav\n",
      "../AudioData/euro-vs-perc/perc/sheet metal bow 21.wav\n",
      "../AudioData/euro-vs-perc/perc/sheet metal bow 21.wav\n",
      "../AudioData/euro-vs-perc/perc/sheet metal bow 30.wav\n",
      "../AudioData/euro-vs-perc/perc/sheet metal bow 30.wav\n",
      "../AudioData/euro-vs-perc/perc/sheet metal bow 35.wav\n",
      "../AudioData/euro-vs-perc/perc/sheet metal bow 35.wav\n",
      "../AudioData/euro-vs-perc/perc/window weight KH1 upper pitch ictus.wav\n",
      "../AudioData/euro-vs-perc/perc/window weight KH1 upper pitch ictus.wav\n",
      "../AudioData/euro-vs-perc/perc/sheet metal bow 34.wav\n",
      "../AudioData/euro-vs-perc/perc/sheet metal bow 34.wav\n",
      "../AudioData/euro-vs-perc/perc/china cymbal scrape with back of brush 02.wav\n",
      "../AudioData/euro-vs-perc/perc/china cymbal scrape with back of brush 02.wav\n",
      "../AudioData/euro-vs-perc/perc/sheet metal bow 22.wav\n",
      "../AudioData/euro-vs-perc/perc/sheet metal bow 22.wav\n",
      "../AudioData/euro-vs-perc/perc/sheet metal bow 23.wav\n",
      "../AudioData/euro-vs-perc/perc/sheet metal bow 23.wav\n",
      "../AudioData/euro-vs-perc/perc/triangle throw up and catch 06.wav\n",
      "../AudioData/euro-vs-perc/perc/triangle throw up and catch 06.wav\n",
      "../AudioData/euro-vs-perc/perc/sheet metal bow 44.wav\n",
      "../AudioData/euro-vs-perc/perc/sheet metal bow 44.wav\n",
      "../AudioData/euro-vs-perc/perc/sheet metal bow 40.wav\n",
      "../AudioData/euro-vs-perc/perc/sheet metal bow 40.wav\n",
      "../AudioData/euro-vs-perc/perc/triangle throw up and catch 07.wav\n",
      "../AudioData/euro-vs-perc/perc/triangle throw up and catch 07.wav\n",
      "../AudioData/euro-vs-perc/perc/triangle throw up and catch 09 (dropping).wav\n",
      "../AudioData/euro-vs-perc/perc/triangle throw up and catch 01.wav\n",
      "../AudioData/euro-vs-perc/perc/triangle throw up and catch 01.wav\n",
      "../AudioData/euro-vs-perc/perc/triangle throw up and catch 09 (dropping).wav\n",
      "../AudioData/euro-vs-perc/perc/green scoop chopstick 04 (slow and short).wav\n",
      "../AudioData/euro-vs-perc/perc/sheet metal bow 41.wav\n",
      "../AudioData/euro-vs-perc/perc/green scoop chopstick 04 (slow and short).wav\n",
      "../AudioData/euro-vs-perc/perc/sheet metal bow 41.wav\n",
      "../AudioData/euro-vs-perc/perc/green scoop bow 12 (higher pitch).wav\n",
      "../AudioData/euro-vs-perc/perc/green scoop bow 12 (higher pitch).wav\n",
      "../AudioData/euro-vs-perc/perc/sheet metal bow 14-001.wav\n",
      "../AudioData/euro-vs-perc/perc/sheet metal bow 45.wav\n",
      "../AudioData/euro-vs-perc/perc/sheet metal bow 14-001.wav\n",
      "../AudioData/euro-vs-perc/perc/sheet metal bow 45.wav\n",
      "../AudioData/euro-vs-perc/perc/triangle throw up and catch 02.wav\n",
      "../AudioData/euro-vs-perc/perc/triangle throw up and catch 02.wav\n",
      "../AudioData/euro-vs-perc/perc/triangle throw up and catch 05.wav\n",
      "../AudioData/euro-vs-perc/perc/triangle throw up and catch 05.wav\n",
      "../AudioData/euro-vs-perc/perc/sheet metal bow 42.wav\n",
      "../AudioData/euro-vs-perc/perc/sheet metal bow 42.wav\n",
      "../AudioData/euro-vs-perc/perc/spring skateboard 09.wav\n",
      "../AudioData/euro-vs-perc/perc/spring skateboard 09.wav\n",
      "../AudioData/euro-vs-perc/perc/sheet metal chopstick rosin 08.wav\n",
      "../AudioData/euro-vs-perc/perc/sheet metal chopstick rosin 08.wav\n",
      "../AudioData/euro-vs-perc/perc/sheet metal bow 43.wav\n",
      "../AudioData/euro-vs-perc/perc/sheet metal bow 43.wav\n",
      "../AudioData/euro-vs-perc/perc/sheet metal sticks dragging along ripples 01.wav\n",
      "../AudioData/euro-vs-perc/perc/sheet metal sticks dragging along ripples 01.wav\n",
      "../AudioData/euro-vs-perc/perc/window weight KH1 lower pitch ictus.wav\n",
      "../AudioData/euro-vs-perc/perc/window weight KH1 lower pitch ictus.wav\n",
      "../AudioData/euro-vs-perc/perc/triangle throw up and catch 04.wav\n",
      "../AudioData/euro-vs-perc/perc/triangle throw up and catch 04.wav\n",
      "Finished this class. Going to the next\n"
     ]
    },
    {
     "name": "stderr",
     "output_type": "stream",
     "text": [
      "/anaconda3/lib/python3.6/site-packages/librosa/filters.py:284: UserWarning: Empty filters detected in mel frequency basis. Some channels will produce empty responses. Try increasing your sampling rate (and fmax) or reducing n_mels.\n",
      "  warnings.warn('Empty filters detected in mel frequency basis. '\n",
      "/anaconda3/lib/python3.6/site-packages/librosa/filters.py:284: UserWarning: Empty filters detected in mel frequency basis. Some channels will produce empty responses. Try increasing your sampling rate (and fmax) or reducing n_mels.\n",
      "  warnings.warn('Empty filters detected in mel frequency basis. '\n"
     ]
    },
    {
     "name": "stdout",
     "output_type": "stream",
     "text": [
      "Finished this class. Going to the next\n",
      "Done generating spectra!\n",
      "Notebook Done\n"
     ]
    }
   ],
   "source": [
    "ComputeSpectrograms(SOURCE_FOLDER_TRAIN,OUTPUT_FOLDER_TRAIN)\n",
    "pickle.dump(SpectrumVariables, open(os.path.join(OUTPUT_FOLDER_TRAIN,'Main.SpecVar'), \"wb\" ))\n",
    "print(\"Notebook Done\")"
   ]
  },
  {
   "cell_type": "code",
   "execution_count": null,
   "metadata": {},
   "outputs": [],
   "source": []
  }
 ],
 "metadata": {
  "kernelspec": {
   "display_name": "Python 3",
   "language": "python",
   "name": "python3"
  },
  "language_info": {
   "codemirror_mode": {
    "name": "ipython",
    "version": 3
   },
   "file_extension": ".py",
   "mimetype": "text/x-python",
   "name": "python",
   "nbconvert_exporter": "python",
   "pygments_lexer": "ipython3",
   "version": "3.6.5"
  }
 },
 "nbformat": 4,
 "nbformat_minor": 2
}
